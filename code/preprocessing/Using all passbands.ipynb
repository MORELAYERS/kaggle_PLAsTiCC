{
 "cells": [
  {
   "cell_type": "code",
   "execution_count": 1,
   "metadata": {},
   "outputs": [
    {
     "name": "stderr",
     "output_type": "stream",
     "text": [
      "/anaconda3/lib/python3.6/site-packages/lightgbm/__init__.py:46: UserWarning: Starting from version 2.2.1, the library file in distribution wheels for macOS is built by the Apple Clang (Xcode_9.4.1) compiler.\n",
      "This means that in case of installing LightGBM from PyPI via the ``pip install lightgbm`` command, you don't need to install the gcc compiler anymore.\n",
      "Instead of that, you need to install the OpenMP library, which is required for running LightGBM on the system with the Apple Clang compiler.\n",
      "You can install the OpenMP library by the following command: ``brew install libomp``.\n",
      "  \"You can install the OpenMP library by the following command: ``brew install libomp``.\", UserWarning)\n"
     ]
    }
   ],
   "source": [
    "import numpy as np # linear algebra\n",
    "import pandas as pd # data processing, CSV file I/O (e.g. pd.read_csv)\n",
    "from sklearn.metrics import log_loss\n",
    "from sklearn.model_selection import StratifiedKFold\n",
    "import gc\n",
    "import os\n",
    "import matplotlib.pyplot as plt\n",
    "import seaborn as sns \n",
    "import lightgbm as lgb\n",
    "from catboost import Pool, CatBoostClassifier\n",
    "import itertools\n",
    "import pickle, gzip\n",
    "import glob\n",
    "from sklearn.preprocessing import StandardScaler"
   ]
  },
  {
   "cell_type": "code",
   "execution_count": 2,
   "metadata": {},
   "outputs": [],
   "source": [
    "DATA_DIR = '../../data/raw'"
   ]
  },
  {
   "cell_type": "code",
   "execution_count": 3,
   "metadata": {},
   "outputs": [
    {
     "data": {
      "text/plain": [
       "(1421705, 6)"
      ]
     },
     "execution_count": 3,
     "metadata": {},
     "output_type": "execute_result"
    }
   ],
   "source": [
    "gc.enable() # включение garbage collector\n",
    "\n",
    "train = pd.read_csv(os.path.join(DATA_DIR, 'training_set.csv')) # считывание тренировочных данных (кривые)\n",
    "train.shape"
   ]
  },
  {
   "cell_type": "code",
   "execution_count": 4,
   "metadata": {},
   "outputs": [
    {
     "data": {
      "text/plain": [
       "(1421705, 8)"
      ]
     },
     "execution_count": 4,
     "metadata": {},
     "output_type": "execute_result"
    }
   ],
   "source": [
    "train['flux_ratio_sq'] = np.power(train['flux'] / train['flux_err'], 2.0)\n",
    "train['flux_by_flux_ratio_sq'] = train['flux'] * train['flux_ratio_sq']\n",
    "train.shape"
   ]
  },
  {
   "cell_type": "code",
   "execution_count": 5,
   "metadata": {},
   "outputs": [],
   "source": [
    "aggs = {\n",
    "    'mjd': ['min', 'max', 'size'],\n",
    "    'flux': ['min', 'max', 'mean', 'median', 'std','skew'],\n",
    "    'flux_err': ['min', 'max', 'mean', 'median', 'std','skew'],\n",
    "    'detected': ['mean'],\n",
    "    'flux_ratio_sq':['sum','skew'],\n",
    "    'flux_by_flux_ratio_sq':['sum','skew'],\n",
    "}"
   ]
  },
  {
   "cell_type": "code",
   "execution_count": 6,
   "metadata": {},
   "outputs": [
    {
     "name": "stderr",
     "output_type": "stream",
     "text": [
      "ERROR:root:Internal Python error in the inspect module.\n",
      "Below is the traceback from this internal error.\n",
      "\n"
     ]
    },
    {
     "name": "stdout",
     "output_type": "stream",
     "text": [
      "Traceback (most recent call last):\n",
      "  File \"/anaconda3/lib/python3.6/site-packages/IPython/core/interactiveshell.py\", line 2963, in run_code\n",
      "    exec(code_obj, self.user_global_ns, self.user_ns)\n",
      "  File \"<ipython-input-6-1718abc9fc32>\", line 1, in <module>\n",
      "    agg_train = train.groupby(['object_id', 'passband']).agg(aggs)\n",
      "  File \"/anaconda3/lib/python3.6/site-packages/pandas/core/groupby/groupby.py\", line 4658, in aggregate\n",
      "    return super(DataFrameGroupBy, self).aggregate(arg, *args, **kwargs)\n",
      "  File \"/anaconda3/lib/python3.6/site-packages/pandas/core/groupby/groupby.py\", line 4089, in aggregate\n",
      "    result, how = self._aggregate(arg, _level=_level, *args, **kwargs)\n",
      "  File \"/anaconda3/lib/python3.6/site-packages/pandas/core/base.py\", line 490, in _aggregate\n",
      "    result = _agg(arg, _agg_1dim)\n",
      "  File \"/anaconda3/lib/python3.6/site-packages/pandas/core/base.py\", line 441, in _agg\n",
      "    result[fname] = func(fname, agg_how)\n",
      "  File \"/anaconda3/lib/python3.6/site-packages/pandas/core/base.py\", line 424, in _agg_1dim\n",
      "    return colg.aggregate(how, _level=(_level or 0) + 1)\n",
      "  File \"/anaconda3/lib/python3.6/site-packages/pandas/core/groupby/groupby.py\", line 3485, in aggregate\n",
      "    (_level or 0) + 1)\n",
      "  File \"/anaconda3/lib/python3.6/site-packages/pandas/core/groupby/groupby.py\", line 3558, in _aggregate_multiple_funcs\n",
      "    results[name] = obj.aggregate(func)\n",
      "  File \"/anaconda3/lib/python3.6/site-packages/pandas/core/groupby/groupby.py\", line 3479, in aggregate\n",
      "    return getattr(self, func_or_funcs)(*args, **kwargs)\n",
      "  File \"/anaconda3/lib/python3.6/site-packages/pandas/core/groupby/groupby.py\", line 835, in wrapper\n",
      "    return self.apply(curried_with_axis)\n",
      "  File \"/anaconda3/lib/python3.6/site-packages/pandas/core/groupby/groupby.py\", line 3469, in apply\n",
      "    return super(SeriesGroupBy, self).apply(func, *args, **kwargs)\n",
      "  File \"/anaconda3/lib/python3.6/site-packages/pandas/core/groupby/groupby.py\", line 918, in apply\n",
      "    result = self._python_apply_general(f)\n",
      "  File \"/anaconda3/lib/python3.6/site-packages/pandas/core/groupby/groupby.py\", line 936, in _python_apply_general\n",
      "    self.axis)\n",
      "  File \"/anaconda3/lib/python3.6/site-packages/pandas/core/groupby/groupby.py\", line 2273, in apply\n",
      "    res = f(group)\n",
      "  File \"/anaconda3/lib/python3.6/site-packages/pandas/core/groupby/groupby.py\", line 820, in curried_with_axis\n",
      "    return f(x, *args, **kwargs_with_axis)\n",
      "  File \"/anaconda3/lib/python3.6/site-packages/pandas/core/generic.py\", line 9589, in stat_func\n",
      "    numeric_only=numeric_only)\n",
      "  File \"/anaconda3/lib/python3.6/site-packages/pandas/core/series.py\", line 3218, in _reduce\n",
      "    return op(delegate, skipna=skipna, **kwds)\n",
      "  File \"/anaconda3/lib/python3.6/site-packages/pandas/core/nanops.py\", line 77, in _f\n",
      "    return f(*args, **kwargs)\n",
      "  File \"/anaconda3/lib/python3.6/site-packages/pandas/core/nanops.py\", line 580, in nanskew\n",
      "    m2 = _zero_out_fperr(m2)\n",
      "  File \"/anaconda3/lib/python3.6/site-packages/pandas/core/nanops.py\", line 739, in _zero_out_fperr\n",
      "    return arg.dtype.type(0) if np.abs(arg) < 1e-14 else arg\n",
      "KeyboardInterrupt\n",
      "\n",
      "During handling of the above exception, another exception occurred:\n",
      "\n",
      "Traceback (most recent call last):\n",
      "  File \"/anaconda3/lib/python3.6/site-packages/IPython/core/interactiveshell.py\", line 1863, in showtraceback\n",
      "    stb = value._render_traceback_()\n",
      "AttributeError: 'KeyboardInterrupt' object has no attribute '_render_traceback_'\n",
      "\n",
      "During handling of the above exception, another exception occurred:\n",
      "\n",
      "Traceback (most recent call last):\n",
      "  File \"/anaconda3/lib/python3.6/site-packages/IPython/core/ultratb.py\", line 1095, in get_records\n",
      "    return _fixed_getinnerframes(etb, number_of_lines_of_context, tb_offset)\n",
      "  File \"/anaconda3/lib/python3.6/site-packages/IPython/core/ultratb.py\", line 311, in wrapped\n",
      "    return f(*args, **kwargs)\n",
      "  File \"/anaconda3/lib/python3.6/site-packages/IPython/core/ultratb.py\", line 345, in _fixed_getinnerframes\n",
      "    records = fix_frame_records_filenames(inspect.getinnerframes(etb, context))\n",
      "  File \"/anaconda3/lib/python3.6/inspect.py\", line 1483, in getinnerframes\n",
      "    frameinfo = (tb.tb_frame,) + getframeinfo(tb, context)\n",
      "  File \"/anaconda3/lib/python3.6/inspect.py\", line 1441, in getframeinfo\n",
      "    filename = getsourcefile(frame) or getfile(frame)\n",
      "  File \"/anaconda3/lib/python3.6/inspect.py\", line 696, in getsourcefile\n",
      "    if getattr(getmodule(object, filename), '__loader__', None) is not None:\n",
      "  File \"/anaconda3/lib/python3.6/inspect.py\", line 742, in getmodule\n",
      "    os.path.realpath(f)] = module.__name__\n",
      "  File \"/anaconda3/lib/python3.6/posixpath.py\", line 388, in realpath\n",
      "    path, ok = _joinrealpath(filename[:0], filename, {})\n",
      "  File \"/anaconda3/lib/python3.6/posixpath.py\", line 421, in _joinrealpath\n",
      "    newpath = join(path, name)\n",
      "  File \"/anaconda3/lib/python3.6/posixpath.py\", line 89, in join\n",
      "    elif not path or path.endswith(sep):\n",
      "KeyboardInterrupt\n"
     ]
    },
    {
     "ename": "KeyboardInterrupt",
     "evalue": "",
     "output_type": "error",
     "traceback": [
      "\u001b[0;31m---------------------------------------------------------------------------\u001b[0m"
     ]
    }
   ],
   "source": [
    "agg_train = train.groupby(['object_id', 'passband']).agg(aggs)\n",
    "agg_train.shape"
   ]
  },
  {
   "cell_type": "code",
   "execution_count": null,
   "metadata": {},
   "outputs": [],
   "source": [
    "new_columns = [\n",
    "    k + '_' + agg for k in aggs.keys() for agg in aggs[k]\n",
    "]\n",
    "agg_train.columns = new_columns"
   ]
  },
  {
   "cell_type": "code",
   "execution_count": null,
   "metadata": {},
   "outputs": [],
   "source": [
    "agg_train['mjd_diff'] = agg_train['mjd_max'] - agg_train['mjd_min']\n",
    "agg_train['flux_diff'] = agg_train['flux_max'] - agg_train['flux_min']\n",
    "agg_train['flux_dif2'] = (agg_train['flux_max'] - agg_train['flux_min']) / agg_train['flux_mean']\n",
    "agg_train['flux_w_mean'] = agg_train['flux_by_flux_ratio_sq_sum'] / agg_train['flux_ratio_sq_sum']\n",
    "agg_train['flux_dif3'] = (agg_train['flux_max'] - agg_train['flux_min']) / agg_train['flux_w_mean']\n",
    "\n",
    "del train\n",
    "gc.collect() # сбор мусора\n",
    "\n",
    "# convert from multindex df to single index\n",
    "agg_train = agg_train.reset_index(level=[0,1])\n"
   ]
  },
  {
   "cell_type": "code",
   "execution_count": null,
   "metadata": {},
   "outputs": [],
   "source": [
    "features = agg_train.columns.drop(['passband', 'object_id'])\n",
    "\n",
    "agg_train = agg_train.groupby('object_id')[features].apply(lambda x: pd.DataFrame(x.values)).unstack().reset_index()\n"
   ]
  },
  {
   "cell_type": "code",
   "execution_count": null,
   "metadata": {},
   "outputs": [],
   "source": [
    "agg_train.head()"
   ]
  },
  {
   "cell_type": "code",
   "execution_count": null,
   "metadata": {},
   "outputs": [],
   "source": [
    "new_columns = []\n",
    "\n",
    "for feat in features:\n",
    "    for i in range(0, 6):\n",
    "        new_columns.append(feat + \"_pb\" + str(i))\n",
    "        \n",
    "new_columns = ['object_id'] + new_columns"
   ]
  },
  {
   "cell_type": "code",
   "execution_count": null,
   "metadata": {},
   "outputs": [],
   "source": [
    "len(new_columns)"
   ]
  },
  {
   "cell_type": "code",
   "execution_count": null,
   "metadata": {},
   "outputs": [],
   "source": [
    "agg_train.columns = new_columns\n",
    "agg_train.head()"
   ]
  },
  {
   "cell_type": "code",
   "execution_count": null,
   "metadata": {},
   "outputs": [],
   "source": [
    "meta_train = pd.read_csv(os.path.join(DATA_DIR, 'training_set_metadata.csv')) # считывание тренировочных данных (метадата)\n",
    "\n",
    "full_train = agg_train.reset_index().merge(\n",
    "    right=meta_train,\n",
    "    how='outer',\n",
    "    on='object_id'\n",
    ")\n",
    "\n",
    "if 'target' in full_train:\n",
    "    y = full_train['target']\n",
    "    del full_train['target']\n",
    "classes = sorted(y.unique())\n",
    "\n",
    "# Taken from Giba's topic : https://www.kaggle.com/titericz\n",
    "# https://www.kaggle.com/c/PLAsTiCC-2018/discussion/67194\n",
    "# with Kyle Boone's post https://www.kaggle.com/kyleboone\n",
    "# определение веса каждого класса\n",
    "class_weight = {\n",
    "    c: 1 for c in classes\n",
    "}\n",
    "for c in [64, 15]:\n",
    "    class_weight[c] = 2\n",
    "\n",
    "print('Unique classes : ', classes)"
   ]
  },
  {
   "cell_type": "code",
   "execution_count": null,
   "metadata": {},
   "outputs": [],
   "source": [
    "meta_train.head()"
   ]
  },
  {
   "cell_type": "code",
   "execution_count": null,
   "metadata": {},
   "outputs": [],
   "source": [
    "if 'object_id' in full_train:\n",
    "    oof_df = full_train[['object_id']]\n",
    "    del full_train['object_id'], full_train['distmod'], full_train['hostgal_specz'] # удаление колонок\n",
    "    del full_train['ra'], full_train['decl'], full_train['gal_l'], full_train['gal_b'], full_train['ddf'] # удаление колонок\n",
    "    \n",
    "\n",
    "# заполнение NaN\n",
    "train_mean = full_train.mean(axis=0)\n",
    "full_train.fillna(train_mean, inplace=True)\n",
    "\n",
    "folds = StratifiedKFold(n_splits=5, shuffle=True, random_state=1) # деление данных на фолды для кросс-валидации"
   ]
  },
  {
   "cell_type": "code",
   "execution_count": null,
   "metadata": {},
   "outputs": [],
   "source": [
    "full_train_new = full_train.copy()\n",
    "ss = StandardScaler()\n",
    "full_train_ss = ss.fit_transform(full_train_new)"
   ]
  },
  {
   "cell_type": "markdown",
   "metadata": {},
   "source": [
    "## Построение модели"
   ]
  },
  {
   "cell_type": "code",
   "execution_count": null,
   "metadata": {},
   "outputs": [],
   "source": [
    "from keras.models import Sequential\n",
    "from keras.layers import Dense,BatchNormalization,Dropout\n",
    "from keras.callbacks import ReduceLROnPlateau,ModelCheckpoint\n",
    "from keras.utils import to_categorical\n",
    "import tensorflow as tf\n",
    "from keras import backend as K\n",
    "import keras\n",
    "from keras import regularizers\n",
    "from collections import Counter\n",
    "from sklearn.metrics import confusion_matrix"
   ]
  },
  {
   "cell_type": "code",
   "execution_count": null,
   "metadata": {},
   "outputs": [],
   "source": [
    "# https://www.kaggle.com/c/PLAsTiCC-2018/discussion/69795\n",
    "def mywloss(y_true,y_pred):  \n",
    "    yc=tf.clip_by_value(y_pred,1e-15,1-1e-15)\n",
    "    loss=-(tf.reduce_mean(tf.reduce_mean(y_true*tf.log(yc),axis=0)/wtable))\n",
    "    return loss"
   ]
  },
  {
   "cell_type": "markdown",
   "metadata": {},
   "source": [
    "### Определение функции ошибки"
   ]
  },
  {
   "cell_type": "code",
   "execution_count": null,
   "metadata": {},
   "outputs": [],
   "source": [
    "def multi_weighted_logloss(y_ohe, y_p):\n",
    "    \"\"\"\n",
    "    @author olivier https://www.kaggle.com/ogrellier\n",
    "    multi logloss for PLAsTiCC challenge\n",
    "    \"\"\"\n",
    "    classes = [6, 15, 16, 42, 52, 53, 62, 64, 65, 67, 88, 90, 92, 95]\n",
    "    class_weight = {6: 1, 15: 2, 16: 1, 42: 1, 52: 1, 53: 1, 62: 1, 64: 2, 65: 1, 67: 1, 88: 1, 90: 1, 92: 1, 95: 1}\n",
    "    # Normalize rows and limit y_preds to 1e-15, 1-1e-15\n",
    "    y_p = np.clip(a=y_p, a_min=1e-15, a_max=1-1e-15)\n",
    "    # Transform to log\n",
    "    y_p_log = np.log(y_p)\n",
    "    # Get the log for ones, .values is used to drop the index of DataFrames\n",
    "    # Exclude class 99 for now, since there is no class99 in the training set \n",
    "    # we gave a special process for that class\n",
    "    y_log_ones = np.sum(y_ohe * y_p_log, axis=0)\n",
    "    # Get the number of positives for each class\n",
    "    nb_pos = y_ohe.sum(axis=0).astype(float)\n",
    "    # Weight average and divide by the number of positives\n",
    "    class_arr = np.array([class_weight[k] for k in sorted(class_weight.keys())])\n",
    "    y_w = y_log_ones * class_arr / nb_pos    \n",
    "    loss = - np.sum(y_w) / np.sum(class_arr)\n",
    "    return loss\n"
   ]
  },
  {
   "cell_type": "code",
   "execution_count": null,
   "metadata": {},
   "outputs": [],
   "source": [
    "K.clear_session()\n",
    "def build_model(dropout_rate=0.25,activation='relu'):\n",
    "    start_neurons = 512\n",
    "    # create model\n",
    "    model = Sequential()\n",
    "    model.add(Dense(start_neurons, input_dim=full_train_ss.shape[1], activation=activation))\n",
    "    model.add(BatchNormalization())\n",
    "    model.add(Dropout(dropout_rate))\n",
    "    \n",
    "    model.add(Dense(start_neurons//2,activation=activation))\n",
    "    model.add(BatchNormalization())\n",
    "    model.add(Dropout(dropout_rate))\n",
    "    \n",
    "    model.add(Dense(start_neurons//4,activation=activation))\n",
    "    model.add(BatchNormalization())\n",
    "    model.add(Dropout(dropout_rate))\n",
    "    \n",
    "    model.add(Dense(start_neurons//8,activation=activation))\n",
    "    model.add(BatchNormalization())\n",
    "    model.add(Dropout(dropout_rate/2))\n",
    "    \n",
    "    model.add(Dense(len(classes), activation='softmax'))\n",
    "    return model"
   ]
  },
  {
   "cell_type": "code",
   "execution_count": null,
   "metadata": {},
   "outputs": [],
   "source": [
    "unique_y = np.unique(y)\n",
    "class_map = dict()\n",
    "for i,val in enumerate(unique_y):\n",
    "    class_map[val] = i\n",
    "    \n",
    "print(unique_y)\n",
    "print()\n",
    "print(class_map)\n",
    "        \n",
    "y_map = np.zeros((y.shape[0],))\n",
    "y_map = np.array([class_map[val] for val in y])\n",
    "print(y_map)\n",
    "y_categorical = to_categorical(y_map)\n"
   ]
  },
  {
   "cell_type": "code",
   "execution_count": null,
   "metadata": {},
   "outputs": [],
   "source": [
    "y_count = Counter(y_map)\n",
    "wtable = np.zeros((len(unique_y),))\n",
    "for i in range(len(unique_y)):\n",
    "    wtable[i] = y_count[i]/y_map.shape[0]\n"
   ]
  },
  {
   "cell_type": "code",
   "execution_count": null,
   "metadata": {},
   "outputs": [],
   "source": [
    "def plot_loss_acc(history):\n",
    "    plt.plot(history.history['loss'][1:])\n",
    "    plt.plot(history.history['val_loss'][1:])\n",
    "    plt.title('model loss')\n",
    "    plt.ylabel('val_loss')\n",
    "    plt.xlabel('epoch')\n",
    "    plt.legend(['train','Validation'], loc='upper left')\n",
    "    plt.show()\n",
    "    \n",
    "    plt.plot(history.history['acc'][1:])\n",
    "    plt.plot(history.history['val_acc'][1:])\n",
    "    plt.title('model Accuracy')\n",
    "    plt.ylabel('val_acc')\n",
    "    plt.xlabel('epoch')\n",
    "    plt.legend(['train','Validation'], loc='upper left')\n",
    "    plt.show()\n"
   ]
  },
  {
   "cell_type": "code",
   "execution_count": null,
   "metadata": {},
   "outputs": [],
   "source": [
    "clfs = []\n",
    "oof_preds = np.zeros((len(full_train_ss), len(classes)))\n",
    "epochs = 250\n",
    "batch_size = 100\n",
    "checkPoint = ModelCheckpoint(\"./keras.model\",monitor='val_loss',mode = 'min', save_best_only=True, verbose=0)\n",
    "for fold_, (trn_, val_) in enumerate(folds.split(y_map, y_map)):\n",
    "    x_train, y_train = full_train_ss[trn_], y_categorical[trn_]\n",
    "    x_valid, y_valid = full_train_ss[val_], y_categorical[val_]\n",
    "    \n",
    "    model = build_model(dropout_rate=0.6,activation='tanh')    \n",
    "    model.compile(loss=mywloss, optimizer='adam', metrics=['accuracy'])\n",
    "    history = model.fit(x_train, y_train,\n",
    "                    validation_data=[x_valid, y_valid], \n",
    "                    epochs=epochs,\n",
    "                    batch_size=batch_size,shuffle=True,verbose=2,callbacks=[checkPoint])       \n",
    "    \n",
    "    plot_loss_acc(history)\n",
    "    \n",
    "    print('Loading Best Model')\n",
    "    model.load_weights('./keras.model')\n",
    "    # # Get predicted probabilities for each class\n",
    "    oof_preds[val_, :] = model.predict_proba(x_valid,batch_size=batch_size)\n",
    "    print(multi_weighted_logloss(y_valid, model.predict_proba(x_valid,batch_size=batch_size)))\n",
    "    clfs.append(model)\n",
    "    \n",
    "print('MULTI WEIGHTED LOG LOSS : %.5f ' % multi_weighted_logloss(y_categorical,oof_preds))\n"
   ]
  },
  {
   "cell_type": "code",
   "execution_count": null,
   "metadata": {},
   "outputs": [],
   "source": [
    "# http://scikit-learn.org/stable/modules/generated/sklearn.metrics.confusion_matrix.html\n",
    "def plot_confusion_matrix(cm, classes,\n",
    "                          normalize=False,\n",
    "                          title='Confusion matrix',\n",
    "                          cmap=plt.cm.Blues):\n",
    "    \"\"\"\n",
    "    This function prints and plots the confusion matrix.\n",
    "    Normalization can be applied by setting `normalize=True`.\n",
    "    \"\"\"\n",
    "    if normalize:\n",
    "        cm = cm.astype('float') / cm.sum(axis=1)[:, np.newaxis]\n",
    "        print(\"Normalized confusion matrix\")\n",
    "    else:\n",
    "        print('Confusion matrix, without normalization')\n",
    "\n",
    "    print(cm)\n",
    "\n",
    "    plt.imshow(cm, interpolation='nearest', cmap=cmap)\n",
    "    plt.title(title)\n",
    "    plt.colorbar()\n",
    "    tick_marks = np.arange(len(classes))\n",
    "    plt.xticks(tick_marks, classes, rotation=45)\n",
    "    plt.yticks(tick_marks, classes)\n",
    "\n",
    "    fmt = '.2f' if normalize else 'd'\n",
    "    thresh = cm.max() / 2.\n",
    "    for i, j in itertools.product(range(cm.shape[0]), range(cm.shape[1])):\n",
    "        plt.text(j, i, format(cm[i, j], fmt),\n",
    "                 horizontalalignment=\"center\",\n",
    "                 color=\"white\" if cm[i, j] > thresh else \"black\")\n",
    "\n",
    "    plt.ylabel('True label')\n",
    "    plt.xlabel('Predicted label')\n",
    "    plt.tight_layout()"
   ]
  },
  {
   "cell_type": "code",
   "execution_count": null,
   "metadata": {},
   "outputs": [],
   "source": [
    "# Compute confusion matrix\n",
    "cnf_matrix = confusion_matrix(y_map, np.argmax(oof_preds,axis=-1))\n",
    "np.set_printoptions(precision=2)"
   ]
  },
  {
   "cell_type": "code",
   "execution_count": 27,
   "metadata": {},
   "outputs": [
    {
     "data": {
      "text/plain": [
       "52449"
      ]
     },
     "execution_count": 27,
     "metadata": {},
     "output_type": "execute_result"
    }
   ],
   "source": [
    "sample_sub = pd.read_csv('../../data/raw/sample_submission.csv')\n",
    "class_names = list(sample_sub.columns[1:-1])\n",
    "del sample_sub;gc.collect()\n"
   ]
  },
  {
   "cell_type": "code",
   "execution_count": 28,
   "metadata": {},
   "outputs": [
    {
     "name": "stdout",
     "output_type": "stream",
     "text": [
      "Normalized confusion matrix\n",
      "[[9.07e-01 0.00e+00 1.32e-02 0.00e+00 0.00e+00 6.62e-03 0.00e+00 0.00e+00\n",
      "  5.96e-02 0.00e+00 0.00e+00 0.00e+00 1.32e-02 0.00e+00]\n",
      " [2.02e-03 7.70e-01 0.00e+00 1.41e-02 1.82e-02 0.00e+00 6.46e-02 1.82e-02\n",
      "  6.06e-03 4.24e-02 8.08e-03 4.85e-02 0.00e+00 8.08e-03]\n",
      " [1.08e-03 0.00e+00 9.90e-01 0.00e+00 0.00e+00 0.00e+00 0.00e+00 0.00e+00\n",
      "  3.25e-03 0.00e+00 0.00e+00 0.00e+00 5.41e-03 0.00e+00]\n",
      " [3.35e-03 1.27e-01 1.68e-03 1.66e-01 1.48e-01 8.38e-04 1.41e-01 3.60e-02\n",
      "  5.03e-03 1.42e-01 2.51e-03 1.68e-01 0.00e+00 5.70e-02]\n",
      " [0.00e+00 2.19e-02 0.00e+00 5.46e-02 3.66e-01 0.00e+00 8.74e-02 5.46e-03\n",
      "  5.46e-03 1.58e-01 0.00e+00 2.73e-01 0.00e+00 2.73e-02]\n",
      " [0.00e+00 0.00e+00 0.00e+00 0.00e+00 0.00e+00 1.00e+00 0.00e+00 0.00e+00\n",
      "  0.00e+00 0.00e+00 0.00e+00 0.00e+00 0.00e+00 0.00e+00]\n",
      " [2.27e-02 3.10e-02 0.00e+00 6.82e-02 1.01e-01 0.00e+00 2.79e-01 6.20e-02\n",
      "  6.20e-03 2.89e-01 0.00e+00 1.10e-01 0.00e+00 3.10e-02]\n",
      " [0.00e+00 9.80e-03 0.00e+00 0.00e+00 0.00e+00 0.00e+00 2.94e-02 9.22e-01\n",
      "  9.80e-03 2.94e-02 0.00e+00 0.00e+00 0.00e+00 0.00e+00]\n",
      " [1.73e-02 1.02e-03 1.02e-02 0.00e+00 0.00e+00 0.00e+00 0.00e+00 2.45e-02\n",
      "  9.44e-01 1.02e-03 0.00e+00 0.00e+00 2.04e-03 0.00e+00]\n",
      " [0.00e+00 4.81e-03 0.00e+00 9.62e-03 9.62e-02 0.00e+00 7.21e-02 1.44e-02\n",
      "  0.00e+00 7.16e-01 0.00e+00 8.17e-02 0.00e+00 4.81e-03]\n",
      " [0.00e+00 8.11e-03 0.00e+00 0.00e+00 0.00e+00 0.00e+00 0.00e+00 0.00e+00\n",
      "  0.00e+00 2.70e-03 9.81e-01 5.41e-03 2.70e-03 0.00e+00]\n",
      " [2.16e-03 6.87e-02 8.65e-04 3.29e-02 1.53e-01 0.00e+00 4.37e-02 1.30e-02\n",
      "  8.65e-04 1.88e-01 3.89e-03 4.58e-01 0.00e+00 3.46e-02]\n",
      " [0.00e+00 0.00e+00 2.93e-02 0.00e+00 0.00e+00 0.00e+00 0.00e+00 0.00e+00\n",
      "  4.18e-03 0.00e+00 0.00e+00 0.00e+00 9.67e-01 0.00e+00]\n",
      " [0.00e+00 1.14e-02 0.00e+00 0.00e+00 5.71e-03 0.00e+00 5.71e-03 0.00e+00\n",
      "  0.00e+00 0.00e+00 1.14e-02 1.14e-02 0.00e+00 9.54e-01]]\n"
     ]
    },
    {
     "data": {
      "image/png": "[encoded data removed]",
      "text/plain": [
       "<Figure size 864x864 with 2 Axes>"
      ]
     },
     "metadata": {},
     "output_type": "display_data"
    }
   ],
   "source": [
    "# Plot non-normalized confusion matrix\n",
    "plt.figure(figsize=(12,12))\n",
    "foo = plot_confusion_matrix(cnf_matrix, classes=class_names,normalize=True,\n",
    "                      title='Confusion matrix')"
   ]
  },
  {
   "cell_type": "code",
   "execution_count": null,
   "metadata": {},
   "outputs": [
    {
     "name": "stdout",
     "output_type": "stream",
     "text": [
      "(90828, 20)\n",
      "(91104, 20)\n",
      "(209789, 20)\n",
      "(234348, 20)\n",
      "(234290, 20)\n",
      "(234474, 20)\n",
      "(234336, 20)\n",
      "(234558, 20)\n",
      "(234480, 20)\n",
      "(234330, 20)\n",
      "       50000000 done in  28.1\n",
      "(234580, 20)\n",
      "(234354, 20)\n",
      "(234594, 20)\n",
      "(234580, 20)\n",
      "(234526, 20)\n",
      "(234330, 20)\n",
      "(234204, 20)\n",
      "(234574, 20)\n",
      "(234666, 20)\n",
      "(234474, 20)\n",
      "      100000000 done in  59.2\n",
      "(234216, 20)\n",
      "(234124, 20)\n",
      "(234619, 20)\n",
      "(234330, 20)\n",
      "(234510, 20)\n",
      "(234567, 20)\n",
      "(234294, 20)\n",
      "(234522, 20)\n",
      "(234576, 20)\n",
      "(234504, 20)\n",
      "      150000000 done in  91.5\n",
      "(234510, 20)\n",
      "(234354, 20)\n",
      "(234486, 20)\n",
      "(234438, 20)\n",
      "(234444, 20)\n",
      "(234570, 20)\n",
      "(234642, 20)\n",
      "(234328, 20)\n",
      "(234421, 20)\n",
      "(234252, 20)\n",
      "      200000000 done in 125.3\n",
      "(234593, 20)\n",
      "(234282, 20)\n",
      "(234136, 20)\n",
      "(234012, 20)\n",
      "(234165, 20)\n",
      "(234216, 20)\n",
      "(234420, 20)\n",
      "(234384, 20)\n",
      "(234546, 20)\n",
      "(234480, 20)\n",
      "      250000000 done in 161.4\n",
      "(234480, 20)\n",
      "(234462, 20)\n",
      "(234510, 20)\n",
      "(234227, 20)\n",
      "(234330, 20)\n",
      "(234474, 20)\n",
      "(234516, 20)\n"
     ]
    }
   ],
   "source": [
    "meta_test = pd.read_csv('../../data/raw/test_set_metadata.csv') # считывание тестовых данных (кривые)\n",
    "\n",
    "import time\n",
    "\n",
    "start = time.time()\n",
    "chunks = 5000000\n",
    "for i_c, df in enumerate(pd.read_csv('../../data/raw/test_set.csv', chunksize=chunks, iterator=True)):\n",
    "    df['flux_ratio_sq'] = np.power(df['flux'] / df['flux_err'], 2.0)\n",
    "    df['flux_by_flux_ratio_sq'] = df['flux'] * df['flux_ratio_sq']\n",
    "    # Group by object id\n",
    "    aggs = {\n",
    "        'mjd': ['min', 'max', 'size'],\n",
    "        'flux': ['min', 'max', 'mean', 'median', 'std','skew'],\n",
    "        'flux_err': ['min', 'max', 'mean', 'median', 'std','skew'],\n",
    "        'detected': ['mean'],\n",
    "        'flux_ratio_sq':['sum','skew'],\n",
    "        'flux_by_flux_ratio_sq':['sum','skew'],\n",
    "    }\n",
    "    agg_test = df.groupby(['object_id', 'passband']).agg(aggs)\n",
    "    print(agg_test.shape)\n",
    "    new_columns = [\n",
    "        k + '_' + agg for k in aggs.keys() for agg in aggs[k]\n",
    "    ]\n",
    "    \n",
    "    \n",
    "    agg_test.columns = new_columns\n",
    "    agg_test['mjd_diff'] = agg_test['mjd_max'] - agg_test['mjd_min']\n",
    "    agg_test['flux_diff'] = agg_test['flux_max'] - agg_test['flux_min']\n",
    "    agg_test['flux_dif2'] = (agg_test['flux_max'] - agg_test['flux_min']) / agg_test['flux_mean']\n",
    "    agg_test['flux_w_mean'] = agg_test['flux_by_flux_ratio_sq_sum'] / agg_test['flux_ratio_sq_sum']\n",
    "    agg_test['flux_dif3'] = (agg_test['flux_max'] - agg_test['flux_min']) / agg_test['flux_w_mean']\n",
    "\n",
    "    agg_test = agg_test.reset_index(level=[0,1])\n",
    "    \n",
    "    del df\n",
    "    gc.collect()\n",
    "    \n",
    "    features = agg_test.columns.drop(['passband', 'object_id'])\n",
    "\n",
    "    agg_test = agg_test.groupby('object_id')[features].apply(lambda x: pd.DataFrame(x.values)).unstack().reset_index()\n",
    "    \n",
    "    new_columns = []\n",
    "\n",
    "    for feat in features:\n",
    "        for i in range(0, 6):\n",
    "            new_columns.append(feat + \"_pb\" + str(i))\n",
    "\n",
    "    new_columns = ['object_id'] + new_columns\n",
    "    \n",
    "    agg_test.columns = new_columns\n",
    "    agg_test.head()\n",
    "    \n",
    "    # Merge with meta data\n",
    "    full_test = agg_test.reset_index().merge(\n",
    "        right=meta_test,\n",
    "        how='left',\n",
    "        on='object_id'\n",
    "    )\n",
    "    full_test[full_train.columns] = full_test[full_train.columns].fillna(train_mean)\n",
    "    full_test_ss = ss.transform(full_test[full_train.columns])\n",
    "    # Make predictions\n",
    "    preds = None\n",
    "    for clf in clfs:\n",
    "        if preds is None:\n",
    "            preds = clf.predict_proba(full_test_ss) / folds.n_splits\n",
    "        else:\n",
    "            preds += clf.predict_proba(full_test_ss) / folds.n_splits\n",
    "    \n",
    "   # Compute preds_99 as the proba of class not being any of the others\n",
    "    # preds_99 = 0.1 gives 1.769\n",
    "    preds_99 = np.ones(preds.shape[0])\n",
    "    for i in range(preds.shape[1]):\n",
    "        preds_99 *= (1 - preds[:, i])\n",
    "    \n",
    "    # Store predictions\n",
    "    preds_df = pd.DataFrame(preds, columns=class_names)\n",
    "    preds_df['object_id'] = full_test['object_id']\n",
    "    preds_df['class_99'] = 0.14 * preds_99 / np.mean(preds_99) \n",
    "    \n",
    "    if i_c == 0:\n",
    "        preds_df.to_csv('../../data/submissions/predictions2.csv',  header=True, mode='a', index=False)\n",
    "    else: \n",
    "        preds_df.to_csv('../../data/submissions/predictions2.csv',  header=False, mode='a', index=False)\n",
    "        \n",
    "    del agg_test, full_test, preds_df, preds\n",
    "#     print('done')\n",
    "    if (i_c + 1) % 10 == 0:\n",
    "        print('%15d done in %5.1f' % (chunks * (i_c + 1), (time.time() - start) / 60))"
   ]
  },
  {
   "cell_type": "code",
   "execution_count": 22,
   "metadata": {},
   "outputs": [
    {
     "name": "stdout",
     "output_type": "stream",
     "text": [
      "2\n",
      "88\n"
     ]
    }
   ],
   "source": [
    "z = pd.read_csv('../data/submissions/predictions.csv')\n",
    "\n",
    "print(z.groupby('object_id').size().max())\n",
    "print((z.groupby('object_id').size() > 1).sum())\n",
    "\n",
    "z = z.groupby('object_id').mean()\n",
    "\n",
    "z.to_csv('../data/submissions/single_predictions.csv', index=True)"
   ]
  },
  {
   "cell_type": "code",
   "execution_count": 23,
   "metadata": {},
   "outputs": [
    {
     "data": {
      "text/html": [
       "<div>\n",
       "<style scoped>\n",
       "    .dataframe tbody tr th:only-of-type {\n",
       "        vertical-align: middle;\n",
       "    }\n",
       "\n",
       "    .dataframe tbody tr th {\n",
       "        vertical-align: top;\n",
       "    }\n",
       "\n",
       "    .dataframe thead th {\n",
       "        text-align: right;\n",
       "    }\n",
       "</style>\n",
       "<table border=\"1\" class=\"dataframe\">\n",
       "  <thead>\n",
       "    <tr style=\"text-align: right;\">\n",
       "      <th></th>\n",
       "      <th>class_6</th>\n",
       "      <th>class_15</th>\n",
       "      <th>class_16</th>\n",
       "      <th>class_42</th>\n",
       "      <th>class_52</th>\n",
       "      <th>class_53</th>\n",
       "      <th>class_62</th>\n",
       "      <th>class_64</th>\n",
       "      <th>class_65</th>\n",
       "      <th>class_67</th>\n",
       "      <th>class_88</th>\n",
       "      <th>class_90</th>\n",
       "      <th>class_92</th>\n",
       "      <th>class_95</th>\n",
       "      <th>class_99</th>\n",
       "    </tr>\n",
       "    <tr>\n",
       "      <th>object_id</th>\n",
       "      <th></th>\n",
       "      <th></th>\n",
       "      <th></th>\n",
       "      <th></th>\n",
       "      <th></th>\n",
       "      <th></th>\n",
       "      <th></th>\n",
       "      <th></th>\n",
       "      <th></th>\n",
       "      <th></th>\n",
       "      <th></th>\n",
       "      <th></th>\n",
       "      <th></th>\n",
       "      <th></th>\n",
       "      <th></th>\n",
       "    </tr>\n",
       "  </thead>\n",
       "  <tbody>\n",
       "    <tr>\n",
       "      <th>13</th>\n",
       "      <td>2.092491e-05</td>\n",
       "      <td>0.009581</td>\n",
       "      <td>1.891352e-05</td>\n",
       "      <td>0.385556</td>\n",
       "      <td>0.212884</td>\n",
       "      <td>2.074104e-07</td>\n",
       "      <td>0.290095</td>\n",
       "      <td>0.000043</td>\n",
       "      <td>0.000047</td>\n",
       "      <td>0.018884</td>\n",
       "      <td>0.000143</td>\n",
       "      <td>0.082653</td>\n",
       "      <td>4.536868e-07</td>\n",
       "      <td>0.000073</td>\n",
       "      <td>0.155924</td>\n",
       "    </tr>\n",
       "    <tr>\n",
       "      <th>14</th>\n",
       "      <td>1.820848e-06</td>\n",
       "      <td>0.006375</td>\n",
       "      <td>3.255423e-06</td>\n",
       "      <td>0.073684</td>\n",
       "      <td>0.227542</td>\n",
       "      <td>4.575380e-07</td>\n",
       "      <td>0.036590</td>\n",
       "      <td>0.000161</td>\n",
       "      <td>0.000108</td>\n",
       "      <td>0.127537</td>\n",
       "      <td>0.004492</td>\n",
       "      <td>0.522556</td>\n",
       "      <td>5.182726e-06</td>\n",
       "      <td>0.000944</td>\n",
       "      <td>0.144584</td>\n",
       "    </tr>\n",
       "    <tr>\n",
       "      <th>17</th>\n",
       "      <td>9.550799e-07</td>\n",
       "      <td>0.009783</td>\n",
       "      <td>2.365789e-05</td>\n",
       "      <td>0.099976</td>\n",
       "      <td>0.126518</td>\n",
       "      <td>1.102058e-07</td>\n",
       "      <td>0.036680</td>\n",
       "      <td>0.000122</td>\n",
       "      <td>0.000038</td>\n",
       "      <td>0.053049</td>\n",
       "      <td>0.075860</td>\n",
       "      <td>0.591713</td>\n",
       "      <td>3.557892e-05</td>\n",
       "      <td>0.006200</td>\n",
       "      <td>0.135679</td>\n",
       "    </tr>\n",
       "    <tr>\n",
       "      <th>23</th>\n",
       "      <td>5.353507e-07</td>\n",
       "      <td>0.007583</td>\n",
       "      <td>4.471621e-07</td>\n",
       "      <td>0.108888</td>\n",
       "      <td>0.179659</td>\n",
       "      <td>8.533474e-07</td>\n",
       "      <td>0.067515</td>\n",
       "      <td>0.000139</td>\n",
       "      <td>0.000023</td>\n",
       "      <td>0.132494</td>\n",
       "      <td>0.000566</td>\n",
       "      <td>0.499702</td>\n",
       "      <td>7.258828e-07</td>\n",
       "      <td>0.003428</td>\n",
       "      <td>0.149013</td>\n",
       "    </tr>\n",
       "    <tr>\n",
       "      <th>34</th>\n",
       "      <td>8.966589e-06</td>\n",
       "      <td>0.010537</td>\n",
       "      <td>3.113280e-08</td>\n",
       "      <td>0.104071</td>\n",
       "      <td>0.130250</td>\n",
       "      <td>2.743362e-07</td>\n",
       "      <td>0.087482</td>\n",
       "      <td>0.000129</td>\n",
       "      <td>0.000060</td>\n",
       "      <td>0.182233</td>\n",
       "      <td>0.000092</td>\n",
       "      <td>0.475869</td>\n",
       "      <td>3.952643e-07</td>\n",
       "      <td>0.009267</td>\n",
       "      <td>0.152222</td>\n",
       "    </tr>\n",
       "  </tbody>\n",
       "</table>\n",
       "</div>"
      ],
      "text/plain": [
       "                class_6  class_15      class_16  class_42  class_52  \\\n",
       "object_id                                                             \n",
       "13         2.092491e-05  0.009581  1.891352e-05  0.385556  0.212884   \n",
       "14         1.820848e-06  0.006375  3.255423e-06  0.073684  0.227542   \n",
       "17         9.550799e-07  0.009783  2.365789e-05  0.099976  0.126518   \n",
       "23         5.353507e-07  0.007583  4.471621e-07  0.108888  0.179659   \n",
       "34         8.966589e-06  0.010537  3.113280e-08  0.104071  0.130250   \n",
       "\n",
       "               class_53  class_62  class_64  class_65  class_67  class_88  \\\n",
       "object_id                                                                   \n",
       "13         2.074104e-07  0.290095  0.000043  0.000047  0.018884  0.000143   \n",
       "14         4.575380e-07  0.036590  0.000161  0.000108  0.127537  0.004492   \n",
       "17         1.102058e-07  0.036680  0.000122  0.000038  0.053049  0.075860   \n",
       "23         8.533474e-07  0.067515  0.000139  0.000023  0.132494  0.000566   \n",
       "34         2.743362e-07  0.087482  0.000129  0.000060  0.182233  0.000092   \n",
       "\n",
       "           class_90      class_92  class_95  class_99  \n",
       "object_id                                              \n",
       "13         0.082653  4.536868e-07  0.000073  0.155924  \n",
       "14         0.522556  5.182726e-06  0.000944  0.144584  \n",
       "17         0.591713  3.557892e-05  0.006200  0.135679  \n",
       "23         0.499702  7.258828e-07  0.003428  0.149013  \n",
       "34         0.475869  3.952643e-07  0.009267  0.152222  "
      ]
     },
     "execution_count": 23,
     "metadata": {},
     "output_type": "execute_result"
    }
   ],
   "source": [
    "z.head()"
   ]
  },
  {
   "cell_type": "code",
   "execution_count": null,
   "metadata": {},
   "outputs": [],
   "source": []
  },
  {
   "cell_type": "code",
   "execution_count": null,
   "metadata": {},
   "outputs": [],
   "source": []
  }
 ],
 "metadata": {
  "kernelspec": {
   "display_name": "Python 3",
   "language": "python",
   "name": "python3"
  },
  "language_info": {
   "codemirror_mode": {
    "name": "ipython",
    "version": 3
   },
   "file_extension": ".py",
   "mimetype": "text/x-python",
   "name": "python",
   "nbconvert_exporter": "python",
   "pygments_lexer": "ipython3",
   "version": "3.6.5"
  }
 },
 "nbformat": 4,
 "nbformat_minor": 2
}
